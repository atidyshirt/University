{
 "cells": [
  {
   "cell_type": "markdown",
   "metadata": {},
   "source": [
    "Converting between different representations (ENCE260 lecture CA2)\n",
    "Python libraries include functions for doing this kind of thing.\n",
    "These functions are just to demonstrate how base conversion works.\n",
    "\n",
    "Allan McInnes / 2018-07-18\n",
    "\n",
    "Jupyter notebook version by\n",
    "Ciaran Moore / 2019-07-19"
   ]
  },
  {
   "cell_type": "code",
   "execution_count": 1,
   "metadata": {},
   "outputs": [],
   "source": [
    "# Converting a binary sequence to decimal\n",
    "def binary_to_unsigned_decimal(bits):\n",
    "    \"\"\"Takes a list of bits (0 or 1), MSB first, and returns the\n",
    "    corresponding unsigned decimal (base 10) value.\n",
    "    \"\"\"\n",
    "    # Note that because we assume MSB first, we reverse the bit list\n",
    "    # prior to enumeration so that the indices work out correctly\n",
    "    return sum(bit*(2**i) for i, bit in enumerate(reversed(bits)))\n",
    "    # Equivalent to:\n",
    "    # base10 = 0\n",
    "    # for i, bit in enumerate(reversed(bits)):\n",
    "    #   base10 += bit*(2**i)\n",
    "    # return base10"
   ]
  },
  {
   "cell_type": "code",
   "execution_count": null,
   "metadata": {},
   "outputs": [],
   "source": [
    "binary_to_unsigned_decimal([1, 0, 0, 0])"
   ]
  },
  {
   "cell_type": "code",
   "execution_count": null,
   "metadata": {},
   "outputs": [],
   "source": [
    "binary_to_unsigned_decimal([0, 1, 0, 1])"
   ]
  },
  {
   "cell_type": "code",
   "execution_count": null,
   "metadata": {},
   "outputs": [],
   "source": [
    "binary_to_unsigned_decimal([1, 1])"
   ]
  },
  {
   "cell_type": "code",
   "execution_count": null,
   "metadata": {},
   "outputs": [],
   "source": [
    "def hex_to_decimal(hexdigits):\n",
    "    \"\"\"Takes a list of hexadecimal digits (0-F), MS digit first, and returns the\n",
    "    corresponding decimal (base 10) value.\n",
    "    \"\"\"\n",
    "    lookup = {0:0, 1:1, 2:2, 3:3, 4:4, 5:5, 6:6, 7:7, 8:8,\n",
    "              9:9, 'A':10, 'B':11, 'C':12, 'D':13, 'E':14, 'F':15}\n",
    "    return sum(lookup[val]*(16**i) for i, val in enumerate(reversed(hexdigits)))"
   ]
  },
  {
   "cell_type": "code",
   "execution_count": null,
   "metadata": {},
   "outputs": [],
   "source": [
    "hex_to_decimal(['F', 5])"
   ]
  },
  {
   "cell_type": "code",
   "execution_count": null,
   "metadata": {},
   "outputs": [],
   "source": [
    "hex_to_decimal(['F', 'E'])"
   ]
  },
  {
   "cell_type": "code",
   "execution_count": null,
   "metadata": {},
   "outputs": [],
   "source": [
    "hex_to_decimal([0, 'A'])"
   ]
  },
  {
   "cell_type": "code",
   "execution_count": null,
   "metadata": {},
   "outputs": [],
   "source": [
    "def decimal_to_hex(decimal):\n",
    "    \"\"\"Takes a decimal number (digits 0-9), MS digit first, and returns the\n",
    "    corresponding hexadecimal (base 16) value as a string.\n",
    "    \"\"\"\n",
    "    lookup = {0:'0', 1:'1', 2:'2', 3:'3', 4:'4', 5:'5', 6:'6', 7:'7', 8:'8',\n",
    "              9:'9', 10:'A', 11:'B', 12:'C', 13:'D', 14:'E', 15:'F'}\n",
    "    hexdigits = []  # We'll build a list of hex digits\n",
    "    # To do base conversion, we repeatedly divide a number by the base\n",
    "    # (16 in this case), and save the remainder of each division.\n",
    "    # The remainder from the first division gives us the the part of\n",
    "    # the number in the 16**0 position.\n",
    "    # The remainder from the second division gives us the part of the number\n",
    "    # at the 16**1 position. And so on.\n",
    "    # Repeat until there's nothing left.\n",
    "    while not decimal == 0:\n",
    "        remainder = decimal % 16       # Find the remainder\n",
    "        hexdigits += lookup[remainder] # Convert to hex digit and save\n",
    "        decimal = decimal // 16        # Integer division (//)\n",
    "    return \"0x\" + ''.join(reversed(hexdigits))"
   ]
  },
  {
   "cell_type": "code",
   "execution_count": null,
   "metadata": {},
   "outputs": [],
   "source": [
    "decimal_to_hex(245)"
   ]
  },
  {
   "cell_type": "code",
   "execution_count": null,
   "metadata": {},
   "outputs": [],
   "source": [
    "decimal_to_hex(254)"
   ]
  },
  {
   "cell_type": "code",
   "execution_count": null,
   "metadata": {},
   "outputs": [],
   "source": [
    "decimal_to_hex(10)"
   ]
  },
  {
   "cell_type": "code",
   "execution_count": null,
   "metadata": {},
   "outputs": [],
   "source": []
  }
 ],
 "metadata": {
  "kernelspec": {
   "display_name": "Python 3",
   "language": "python",
   "name": "python3"
  },
  "language_info": {
   "codemirror_mode": {
    "name": "ipython",
    "version": 3
   },
   "file_extension": ".py",
   "mimetype": "text/x-python",
   "name": "python",
   "nbconvert_exporter": "python",
   "pygments_lexer": "ipython3",
   "version": "3.7.1"
  }
 },
 "nbformat": 4,
 "nbformat_minor": 2
}
