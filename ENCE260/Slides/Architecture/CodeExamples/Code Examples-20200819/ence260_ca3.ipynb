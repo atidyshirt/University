{
 "cells": [
  {
   "cell_type": "code",
   "execution_count": 1,
   "metadata": {},
   "outputs": [],
   "source": [
    "# Modeling latches and flip-flops(ENCE260 lecture CA3)\n",
    "#\n",
    "# Allan McInnes / 2018-07-18\n",
    "#\n",
    "# Jupyter notebook version by\n",
    "# Ciaran Moore / 2019-07-19\n",
    "\n",
    "# Repeat definition from CA1\n",
    "def two_input_gate(truth_table, in1, in2):\n",
    "    \"\"\"Return an output found from a truth table.\"\"\"\n",
    "    return truth_table[(in1, in2)]\n",
    "\n",
    "# Build a NOR gate for use in constructing SR latch\n",
    "nor_table = {(0,0):1,\n",
    "             (0,1):0,\n",
    "             (1,0):0,\n",
    "             (1,1):0}\n",
    "\n",
    "def nor_gate(in1, in2):\n",
    "    return two_input_gate(nor_table, in1, in2)"
   ]
  },
  {
   "cell_type": "code",
   "execution_count": 2,
   "metadata": {},
   "outputs": [
    {
     "ename": "UnboundLocalError",
     "evalue": "local variable 'z' referenced before assignment",
     "output_type": "error",
     "traceback": [
      "\u001b[0;31m---------------------------------------------------------------------------\u001b[0m",
      "\u001b[0;31mUnboundLocalError\u001b[0m                         Traceback (most recent call last)",
      "\u001b[0;32m<ipython-input-2-660575f9ba07>\u001b[0m in \u001b[0;36m<module>\u001b[0;34m\u001b[0m\n\u001b[1;32m      5\u001b[0m     \u001b[0;32mreturn\u001b[0m \u001b[0;34m(\u001b[0m\u001b[0my\u001b[0m\u001b[0;34m,\u001b[0m \u001b[0mz\u001b[0m\u001b[0;34m)\u001b[0m\u001b[0;34m\u001b[0m\u001b[0;34m\u001b[0m\u001b[0m\n\u001b[1;32m      6\u001b[0m \u001b[0;34m\u001b[0m\u001b[0m\n\u001b[0;32m----> 7\u001b[0;31m \u001b[0msr_latch\u001b[0m\u001b[0;34m(\u001b[0m\u001b[0;36m1\u001b[0m\u001b[0;34m,\u001b[0m\u001b[0;36m0\u001b[0m\u001b[0;34m)\u001b[0m\u001b[0;34m\u001b[0m\u001b[0;34m\u001b[0m\u001b[0m\n\u001b[0m",
      "\u001b[0;32m<ipython-input-2-660575f9ba07>\u001b[0m in \u001b[0;36msr_latch\u001b[0;34m(s, r)\u001b[0m\n\u001b[1;32m      1\u001b[0m \u001b[0;31m# This obviously won't work, because y and z are undefined:\u001b[0m\u001b[0;34m\u001b[0m\u001b[0;34m\u001b[0m\u001b[0;34m\u001b[0m\u001b[0m\n\u001b[1;32m      2\u001b[0m \u001b[0;32mdef\u001b[0m \u001b[0msr_latch\u001b[0m\u001b[0;34m(\u001b[0m\u001b[0ms\u001b[0m\u001b[0;34m,\u001b[0m \u001b[0mr\u001b[0m\u001b[0;34m)\u001b[0m\u001b[0;34m:\u001b[0m\u001b[0;34m\u001b[0m\u001b[0;34m\u001b[0m\u001b[0m\n\u001b[0;32m----> 3\u001b[0;31m     \u001b[0my\u001b[0m \u001b[0;34m=\u001b[0m \u001b[0mnor_gate\u001b[0m\u001b[0;34m(\u001b[0m\u001b[0ms\u001b[0m\u001b[0;34m,\u001b[0m \u001b[0mz\u001b[0m\u001b[0;34m)\u001b[0m\u001b[0;34m\u001b[0m\u001b[0;34m\u001b[0m\u001b[0m\n\u001b[0m\u001b[1;32m      4\u001b[0m     \u001b[0mz\u001b[0m \u001b[0;34m=\u001b[0m \u001b[0mnor_gate\u001b[0m\u001b[0;34m(\u001b[0m\u001b[0mr\u001b[0m\u001b[0;34m,\u001b[0m \u001b[0my\u001b[0m\u001b[0;34m)\u001b[0m\u001b[0;34m\u001b[0m\u001b[0;34m\u001b[0m\u001b[0m\n\u001b[1;32m      5\u001b[0m     \u001b[0;32mreturn\u001b[0m \u001b[0;34m(\u001b[0m\u001b[0my\u001b[0m\u001b[0;34m,\u001b[0m \u001b[0mz\u001b[0m\u001b[0;34m)\u001b[0m\u001b[0;34m\u001b[0m\u001b[0;34m\u001b[0m\u001b[0m\n",
      "\u001b[0;31mUnboundLocalError\u001b[0m: local variable 'z' referenced before assignment"
     ]
    }
   ],
   "source": [
    "# This obviously won't work, because y and z are undefined:\n",
    "def sr_latch(s, r):\n",
    "    y = nor_gate(s, z)\n",
    "    z = nor_gate(r, y)\n",
    "    return (y, z)\n",
    "\n",
    "sr_latch(1,0)"
   ]
  },
  {
   "cell_type": "code",
   "execution_count": 3,
   "metadata": {},
   "outputs": [],
   "source": [
    "# This version will work (but be careful with making the initial input 0,0).\n",
    "# It stores the previous internal state, and iterates the internal state\n",
    "# until that state stabilizes.\n",
    "#\n",
    "# Note that this implementation ignores *propagation delay* in the\n",
    "# logic gates, and hides changes in the outputs until the state\n",
    "# has stabilized. It's therefore unlikely to be a useful component in building\n",
    "# larger assemblies of sequential logic components. In practice digital\n",
    "# logic simulations are implemented using some form of *discrete event simulation*.\n",
    "#\n",
    "class SR_Latch:\n",
    "    def __init__(self):\n",
    "        self.y = 0\n",
    "        self.z = 0\n",
    "\n",
    "    def input(self, s, r):\n",
    "        new_y, new_z = self._update(s, r)\n",
    "        while not (self.y, self.z) == (new_y, new_z):\n",
    "            # Show how the internal state changes\n",
    "            print(\"Internal state: {}, {}\".format(self.y, self.z))\n",
    "            self.y, self.z = new_y, new_z\n",
    "            new_y, new_z = self._update(s, r)\n",
    "\n",
    "    def output(self):\n",
    "        return (self.y, self.z)\n",
    "\n",
    "    def _update(self, s, r):\n",
    "        return nor_gate(s, self.z), nor_gate(r, self.y)"
   ]
  },
  {
   "cell_type": "code",
   "execution_count": 4,
   "metadata": {},
   "outputs": [
    {
     "name": "stdout",
     "output_type": "stream",
     "text": [
      "Internal state: 0, 0\n"
     ]
    },
    {
     "data": {
      "text/plain": [
       "(0, 1)"
      ]
     },
     "execution_count": 4,
     "metadata": {},
     "output_type": "execute_result"
    }
   ],
   "source": [
    "latch = SR_Latch()\n",
    "latch.input(1,0)\n",
    "latch.output()"
   ]
  },
  {
   "cell_type": "code",
   "execution_count": 5,
   "metadata": {},
   "outputs": [
    {
     "name": "stdout",
     "output_type": "stream",
     "text": [
      "Internal state: 0, 1\n",
      "Internal state: 0, 0\n"
     ]
    },
    {
     "data": {
      "text/plain": [
       "(1, 0)"
      ]
     },
     "execution_count": 5,
     "metadata": {},
     "output_type": "execute_result"
    }
   ],
   "source": [
    "latch.input(0,1)\n",
    "latch.output()"
   ]
  },
  {
   "cell_type": "code",
   "execution_count": 6,
   "metadata": {},
   "outputs": [
    {
     "data": {
      "text/plain": [
       "(1, 0)"
      ]
     },
     "execution_count": 6,
     "metadata": {},
     "output_type": "execute_result"
    }
   ],
   "source": [
    "latch.output()"
   ]
  },
  {
   "cell_type": "code",
   "execution_count": 7,
   "metadata": {},
   "outputs": [
    {
     "name": "stdout",
     "output_type": "stream",
     "text": [
      "Internal state: 1, 0\n",
      "Internal state: 0, 0\n"
     ]
    }
   ],
   "source": [
    "latch.input(1,0)"
   ]
  },
  {
   "cell_type": "code",
   "execution_count": 8,
   "metadata": {},
   "outputs": [
    {
     "data": {
      "text/plain": [
       "(0, 1)"
      ]
     },
     "execution_count": 8,
     "metadata": {},
     "output_type": "execute_result"
    }
   ],
   "source": [
    "latch.output()"
   ]
  },
  {
   "cell_type": "code",
   "execution_count": 9,
   "metadata": {},
   "outputs": [],
   "source": [
    "# A D flip-flop is essentially just a 1-bit storage component.\n",
    "# The value it stores changes on each clock.\n",
    "class D_FlipFlop:\n",
    "    def __init__(self):\n",
    "        self.D = 0\n",
    "        self.Q = 0\n",
    "        self.notQ = 1\n",
    "\n",
    "    def input(self, d):\n",
    "    \tself.D = d\n",
    "\n",
    "    def clock_rising_edge(self):\n",
    "        \"\"\"We'll assume an edge-triggered flip-flop for this example.\"\"\"\n",
    "        self.Q = self.D  # Capture current input state\n",
    "        self.notQ = 0 if self.Q == 1 else 1\n",
    "\n",
    "    def output(self):\n",
    "        return (self.Q, self.notQ)"
   ]
  },
  {
   "cell_type": "code",
   "execution_count": 10,
   "metadata": {},
   "outputs": [
    {
     "data": {
      "text/plain": [
       "(0, 1)"
      ]
     },
     "execution_count": 10,
     "metadata": {},
     "output_type": "execute_result"
    }
   ],
   "source": [
    "dff = D_FlipFlop()\n",
    "dff.output()"
   ]
  },
  {
   "cell_type": "code",
   "execution_count": 11,
   "metadata": {},
   "outputs": [
    {
     "data": {
      "text/plain": [
       "(0, 1)"
      ]
     },
     "execution_count": 11,
     "metadata": {},
     "output_type": "execute_result"
    }
   ],
   "source": [
    "dff.input(1)\n",
    "dff.output()"
   ]
  },
  {
   "cell_type": "code",
   "execution_count": 12,
   "metadata": {},
   "outputs": [
    {
     "data": {
      "text/plain": [
       "(0, 1)"
      ]
     },
     "execution_count": 12,
     "metadata": {},
     "output_type": "execute_result"
    }
   ],
   "source": [
    "dff.output()"
   ]
  },
  {
   "cell_type": "code",
   "execution_count": 13,
   "metadata": {},
   "outputs": [
    {
     "data": {
      "text/plain": [
       "(1, 0)"
      ]
     },
     "execution_count": 13,
     "metadata": {},
     "output_type": "execute_result"
    }
   ],
   "source": [
    "dff.clock_rising_edge()\n",
    "dff.output()"
   ]
  },
  {
   "cell_type": "code",
   "execution_count": 14,
   "metadata": {},
   "outputs": [
    {
     "data": {
      "text/plain": [
       "(1, 0)"
      ]
     },
     "execution_count": 14,
     "metadata": {},
     "output_type": "execute_result"
    }
   ],
   "source": [
    "dff.input(0)\n",
    "dff.output()"
   ]
  },
  {
   "cell_type": "code",
   "execution_count": 15,
   "metadata": {},
   "outputs": [
    {
     "data": {
      "text/plain": [
       "(0, 1)"
      ]
     },
     "execution_count": 15,
     "metadata": {},
     "output_type": "execute_result"
    }
   ],
   "source": [
    "dff.clock_rising_edge()\n",
    "dff.output()"
   ]
  },
  {
   "cell_type": "code",
   "execution_count": 16,
   "metadata": {},
   "outputs": [
    {
     "data": {
      "text/plain": [
       "(0, 1)"
      ]
     },
     "execution_count": 16,
     "metadata": {},
     "output_type": "execute_result"
    }
   ],
   "source": [
    "dff.output()"
   ]
  },
  {
   "cell_type": "code",
   "execution_count": null,
   "metadata": {},
   "outputs": [],
   "source": []
  }
 ],
 "metadata": {
  "kernelspec": {
   "display_name": "Python 3",
   "language": "python",
   "name": "python3"
  },
  "language_info": {
   "codemirror_mode": {
    "name": "ipython",
    "version": 3
   },
   "file_extension": ".py",
   "mimetype": "text/x-python",
   "name": "python",
   "nbconvert_exporter": "python",
   "pygments_lexer": "ipython3",
   "version": "3.7.3"
  }
 },
 "nbformat": 4,
 "nbformat_minor": 2
}
