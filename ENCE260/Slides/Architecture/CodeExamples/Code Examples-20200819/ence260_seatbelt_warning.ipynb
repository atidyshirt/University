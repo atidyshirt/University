{
 "cells": [
  {
   "cell_type": "markdown",
   "metadata": {},
   "source": [
    "Simple combinational logic design for\n",
    "running a seatbelt warning light.\n",
    "\n",
    "Example inspired by Frank Vahid's \"Digital Design\" (Wiley, 2007)\n",
    "\n",
    "Allan McInnes / 2018-07-23\n",
    "\n",
    "Jupyter notebook version by\n",
    "Ciaran Moore / 2019-07-24"
   ]
  },
  {
   "cell_type": "code",
   "execution_count": null,
   "metadata": {},
   "outputs": [],
   "source": [
    "from ence260_ca1 import inverter, and_gate, or_gate\n",
    "\n",
    "def seatbelt_warning(is_speed_above_0, is_buckled):\n",
    "    \"\"\"\n",
    "    If the speed is above zero and the seatbelt is not buckled\n",
    "    the warning should be on\n",
    "    \"\"\"\n",
    "    return and_gate(is_speed_above_0, inverter(is_buckled))"
   ]
  },
  {
   "cell_type": "code",
   "execution_count": null,
   "metadata": {},
   "outputs": [],
   "source": [
    "for buckled in (0,1):\n",
    "    for speed in (0,1):\n",
    "        w = seatbelt_warning(speed, buckled)\n",
    "        print(\"{} {} | {}\".format(buckled, speed, w))"
   ]
  },
  {
   "cell_type": "code",
   "execution_count": null,
   "metadata": {},
   "outputs": [],
   "source": [
    "def seatbelt_warning_with_passenger(is_speed_above_0, is_buckled, passenger_present):\n",
    "    \"\"\"\n",
    "    Extend the seatbelt warning for the passenger seat (only warn when passenger\n",
    "    isn't present)\n",
    "    \"\"\"\n",
    "    return and_gate(passenger_present, seatbelt_warning(is_speed_above_0, is_buckled))\n",
    "\n",
    "def seatbelt_warning_with_passenger_and_ignition(is_speed_above_0, is_buckled, passenger_present, is_ignition):\n",
    "    \"\"\"Extend seatbelt warning to illuminate when is_ignition (which is 1 for first 5 seconds of key being\n",
    "       turned) is high. This covers the case where the car warning lights illuminate when the care\n",
    "       is started.\n",
    "    \"\"\"\n",
    "    return or_gate(is_ignition,\n",
    "                   seatbelt_warning_with_passenger(is_speed_above_0,\n",
    "                                                   is_buckled,\n",
    "                                                   passenger_present))"
   ]
  },
  {
   "cell_type": "code",
   "execution_count": null,
   "metadata": {},
   "outputs": [],
   "source": [
    "for b in (0,1):\n",
    "    for s in (0,1):\n",
    "        for p in (0,1):\n",
    "            for i in (0,1):\n",
    "                w = seatbelt_warning_with_passenger_and_ignition(s, b, p, i)\n",
    "                print(\"{} {} {} {} | {}\".format(b, s, p, i, w))"
   ]
  },
  {
   "cell_type": "code",
   "execution_count": null,
   "metadata": {},
   "outputs": [],
   "source": []
  }
 ],
 "metadata": {
  "kernelspec": {
   "display_name": "Python 3",
   "language": "python",
   "name": "python3"
  },
  "language_info": {
   "codemirror_mode": {
    "name": "ipython",
    "version": 3
   },
   "file_extension": ".py",
   "mimetype": "text/x-python",
   "name": "python",
   "nbconvert_exporter": "python",
   "pygments_lexer": "ipython3",
   "version": "3.7.1"
  }
 },
 "nbformat": 4,
 "nbformat_minor": 2
}
