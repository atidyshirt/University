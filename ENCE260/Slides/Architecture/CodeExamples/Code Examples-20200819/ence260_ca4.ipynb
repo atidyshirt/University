{
 "cells": [
  {
   "cell_type": "code",
   "execution_count": null,
   "metadata": {},
   "outputs": [],
   "source": [
    "# More complex combinational logic (ENCE260 lecture CA4)\n",
    "#\n",
    "# Allan McInnes / 2018-07-18\n",
    "#\n",
    "# Jupyter notebook version by\n",
    "# Ciaran Moore / 2019-07-19\n",
    "\n",
    "# Basic combinational logic components\n",
    "def two_input_gate(truth_table, in1, in2):\n",
    "    \"\"\"Return an output found from a truth table.\"\"\"\n",
    "    return truth_table[(in1, in2)]\n",
    "\n",
    "and_table = {(0,0):0,\n",
    "             (0,1):0,\n",
    "             (1,0):0,\n",
    "             (1,1):1}\n",
    "\n",
    "or_table =  {(0,0):0,\n",
    "             (0,1):1,\n",
    "             (1,0):1,\n",
    "             (1,1):1}\n",
    "\n",
    "xor_table = {(0,0):0,\n",
    "             (0,1):1,\n",
    "             (1,0):1,\n",
    "             (1,1):0}\n",
    "\n",
    "def and_gate(in1, in2):\n",
    "    return two_input_gate(and_table, in1, in2)\n",
    "\n",
    "def or_gate(in1, in2):\n",
    "    return two_input_gate(or_table, in1, in2)\n",
    "\n",
    "def xor_gate(in1, in2):\n",
    "    return two_input_gate(xor_table, in1, in2)"
   ]
  },
  {
   "cell_type": "code",
   "execution_count": null,
   "metadata": {},
   "outputs": [],
   "source": [
    "# Single-bit full adder\n",
    "def full_adder(in1, in2, cin):\n",
    "    \"\"\"\n",
    "    Returns a 2-tuple containing\n",
    "    1. the binary sum of the inputs (including a 'carry' input)\n",
    "    2. a 'carry' value that is non-zero if the sum overflows.\n",
    "    \"\"\"\n",
    "    s = xor_gate(xor_gate(in1, in2), cin)\n",
    "    cout = or_gate(or_gate(and_gate(in1, in2),\n",
    "            and_gate(in1, cin)), and_gate(in2, cin))\n",
    "    return (s, cout)\n",
    "\n",
    "# Ripple-carry adder\n",
    "def ripple_carry_4bit_adder(A, B, cin):\n",
    "    \"\"\"\n",
    "    Takes a pair of 4-tuples (representing 4-bit numbers) and a carry\n",
    "    value as inputs.\n",
    "    Returns a 5-tuple containing\n",
    "    1. the binary sum of the inputs (including a 'carry' input)\n",
    "    2. a 'carry' value that is non-zero if the sum overflows.\n",
    "    For all tuples, the first element is the MSB.\n",
    "    \"\"\"\n",
    "    # Decompose input tuples\n",
    "    A3, A2, A1, A0 = A\n",
    "    B3, B2, B1, B0 = B\n",
    "    # Perform addition\n",
    "    s0, c = full_adder(A0, B0, cin)\n",
    "    s1, c = full_adder(A1, B1, c)\n",
    "    s2, c = full_adder(A2, B2, c)\n",
    "    s3, cout = full_adder(A3, B3, c)\n",
    "    return (s3, s2, s1, s0, cout)"
   ]
  },
  {
   "cell_type": "code",
   "execution_count": null,
   "metadata": {},
   "outputs": [],
   "source": [
    "ripple_carry_4bit_adder((0,1,0,0), (0,0,1,1), 0)"
   ]
  },
  {
   "cell_type": "code",
   "execution_count": null,
   "metadata": {},
   "outputs": [],
   "source": [
    "ripple_carry_4bit_adder((0,1,0,0), (0,0,1,1), 1)"
   ]
  },
  {
   "cell_type": "code",
   "execution_count": null,
   "metadata": {},
   "outputs": [],
   "source": [
    "def ripple_carry_4bit_addsub(A, B, sub):\n",
    "    \"\"\"\n",
    "    Takes a pair of 4-tuples (representing 4-bit numbers), and a sub control signal.\n",
    "    Returns a 5-tuple containing\n",
    "    1. the binary sum (or difference) of the inputs\n",
    "    2. a 'carry' value that is non-zero if the sum overflows.\n",
    "    For all tuples, the first element is the MSB.\n",
    "    \"\"\"\n",
    "    # Decompose input tuples\n",
    "    A3, A2, A1, A0 = A\n",
    "    B3, B2, B1, B0 = B\n",
    "    # Perform addition\n",
    "    s0, c = full_adder(A0, xor_gate(B0, sub), sub)\n",
    "    s1, c = full_adder(A1, xor_gate(B1, sub), c)\n",
    "    s2, c = full_adder(A2, xor_gate(B2, sub), c)\n",
    "    s3, cout = full_adder(A3, xor_gate(B3, sub), c)\n",
    "    return (s3, s2, s1, s0, cout)"
   ]
  },
  {
   "cell_type": "code",
   "execution_count": null,
   "metadata": {},
   "outputs": [],
   "source": [
    "ripple_carry_4bit_addsub((0,0,1,1), (0,1,0,0), 1)"
   ]
  }
 ],
 "metadata": {
  "kernelspec": {
   "display_name": "Python 3",
   "language": "python",
   "name": "python3"
  },
  "language_info": {
   "codemirror_mode": {
    "name": "ipython",
    "version": 3
   },
   "file_extension": ".py",
   "mimetype": "text/x-python",
   "name": "python",
   "nbconvert_exporter": "python",
   "pygments_lexer": "ipython3",
   "version": "3.7.4"
  }
 },
 "nbformat": 4,
 "nbformat_minor": 2
}
