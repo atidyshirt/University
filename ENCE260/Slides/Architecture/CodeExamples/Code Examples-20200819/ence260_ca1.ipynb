{
 "cells": [
  {
   "cell_type": "code",
   "execution_count": 2,
   "metadata": {},
   "outputs": [],
   "source": [
    "# Basic combinational logic, implemented as functions\n",
    "# and lookup tables.\n",
    "# This could also be implemented using classes. But combinational\n",
    "# logic gates don't have state (the output is just a function of\n",
    "# the input), so we don't really need to construct gate objects.\n",
    "#\n",
    "# Allan McInnes / 2018-07-15\n",
    "\n",
    "def inverter(input):\n",
    "    \"\"\"Return the logical complement of the input.\"\"\"\n",
    "    return (0 if input == 1 else 1)\n",
    "\n",
    "def two_input_gate(truth_table, in1, in2):\n",
    "    \"\"\"Return an output found from a truth table.\"\"\"\n",
    "    return truth_table[(in1, in2)]\n",
    "\n",
    "# Truth tables for basic logic operations\n",
    "and_table = {(0,0):0,\n",
    "             (0,1):0,\n",
    "             (1,0):0,\n",
    "             (1,1):1}\n",
    "\n",
    "or_table =  {(0,0):0,\n",
    "             (0,1):1,\n",
    "             (1,0):1,\n",
    "             (1,1):1}\n",
    "\n",
    "xor_table = {(0,0):0,\n",
    "             (0,1):1,\n",
    "             (1,0):1,\n",
    "             (1,1):0}\n",
    "\n",
    "# Basic logic gates\n",
    "def and_gate(in1, in2):\n",
    "    return two_input_gate(and_table, in1, in2)"
   ]
  },
  {
   "cell_type": "code",
   "execution_count": 3,
   "metadata": {},
   "outputs": [
    {
     "data": {
      "text/plain": [
       "0"
      ]
     },
     "execution_count": 3,
     "metadata": {},
     "output_type": "execute_result"
    }
   ],
   "source": [
    "a = 1\n",
    "b = 0\n",
    "and_gate(a, b)"
   ]
  },
  {
   "cell_type": "code",
   "execution_count": 4,
   "metadata": {},
   "outputs": [
    {
     "data": {
      "text/plain": [
       "1"
      ]
     },
     "execution_count": 4,
     "metadata": {},
     "output_type": "execute_result"
    }
   ],
   "source": [
    "b = 1\n",
    "and_gate(a, b)"
   ]
  },
  {
   "cell_type": "code",
   "execution_count": 5,
   "metadata": {},
   "outputs": [],
   "source": [
    "def or_gate(in1, in2):\n",
    "    return two_input_gate(or_table, in1, in2)\n",
    "\n",
    "def xor_gate(in1, in2):\n",
    "    return two_input_gate(xor_table, in1, in2)"
   ]
  },
  {
   "cell_type": "code",
   "execution_count": null,
   "metadata": {},
   "outputs": [],
   "source": []
  },
  {
   "cell_type": "code",
   "execution_count": 6,
   "metadata": {},
   "outputs": [],
   "source": [
    "# Building more complex operations from the basic gates\n",
    "def half_adder(in1, in2):\n",
    "    \"\"\"\n",
    "    Returns a 2-tuple containing\n",
    "    1. the binary sum of the inputs\n",
    "    2. a 'carry' value that is non-zero if the sum overflows\n",
    "    \"\"\"\n",
    "    return (xor_gate(in1, in2), and_gate(in1, in2))"
   ]
  },
  {
   "cell_type": "code",
   "execution_count": 7,
   "metadata": {},
   "outputs": [
    {
     "data": {
      "text/plain": [
       "(1, 0)"
      ]
     },
     "execution_count": 7,
     "metadata": {},
     "output_type": "execute_result"
    }
   ],
   "source": [
    "half_adder(0,1)"
   ]
  },
  {
   "cell_type": "code",
   "execution_count": 8,
   "metadata": {},
   "outputs": [],
   "source": [
    "def full_adder(in1, in2, cin):\n",
    "    \"\"\"\n",
    "    Returns a 2-tuple containing\n",
    "    1. the binary sum of the inputs (including a 'carry' input)\n",
    "    2. a 'carry' value that is non-zero if the sum overflows.\n",
    "    \"\"\"\n",
    "    s = xor_gate(xor_gate(in1, in2), cin)\n",
    "    cout = or_gate(or_gate(and_gate(in1, in2),\n",
    "            and_gate(in1, cin)), and_gate(in2, cin))\n",
    "    return (s, cout)"
   ]
  },
  {
   "cell_type": "code",
   "execution_count": null,
   "metadata": {},
   "outputs": [],
   "source": []
  }
 ],
 "metadata": {
  "kernelspec": {
   "display_name": "Python 3",
   "language": "python",
   "name": "python3"
  },
  "language_info": {
   "codemirror_mode": {
    "name": "ipython",
    "version": 3
   },
   "file_extension": ".py",
   "mimetype": "text/x-python",
   "name": "python",
   "nbconvert_exporter": "python",
   "pygments_lexer": "ipython3",
   "version": "3.7.1"
  }
 },
 "nbformat": 4,
 "nbformat_minor": 2
}
